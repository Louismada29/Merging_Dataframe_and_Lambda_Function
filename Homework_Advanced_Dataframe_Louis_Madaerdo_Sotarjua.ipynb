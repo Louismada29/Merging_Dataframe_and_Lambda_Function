{
  "nbformat": 4,
  "nbformat_minor": 0,
  "metadata": {
    "colab": {
      "name": "Homework_Advanced_Dataframe_Louis_Madaerdo_Sotarjua.ipynb",
      "provenance": [],
      "authorship_tag": "ABX9TyNnU4vVNjTjXTwsN7mNjxqj",
      "include_colab_link": true
    },
    "kernelspec": {
      "name": "python3",
      "display_name": "Python 3"
    },
    "language_info": {
      "name": "python"
    }
  },
  "cells": [
    {
      "cell_type": "markdown",
      "metadata": {
        "id": "view-in-github",
        "colab_type": "text"
      },
      "source": [
        "<a href=\"https://colab.research.google.com/github/Louismada29/Merging_Dataframe_and_Lambda_Function/blob/main/Homework_Advanced_Dataframe_Louis_Madaerdo_Sotarjua.ipynb\" target=\"_parent\"><img src=\"https://colab.research.google.com/assets/colab-badge.svg\" alt=\"Open In Colab\"/></a>"
      ]
    },
    {
      "cell_type": "markdown",
      "metadata": {
        "id": "k2GOuvIPfhV_"
      },
      "source": [
        "# Import Library"
      ]
    },
    {
      "cell_type": "code",
      "metadata": {
        "id": "tnDsUcjefW0X"
      },
      "source": [
        "import pandas as pd"
      ],
      "execution_count": 16,
      "outputs": []
    },
    {
      "cell_type": "markdown",
      "metadata": {
        "id": "hTh92n5nfsd2"
      },
      "source": [
        "# Create DataFrame"
      ]
    },
    {
      "cell_type": "code",
      "metadata": {
        "colab": {
          "base_uri": "https://localhost:8080/"
        },
        "id": "LjOwKGV8fnpl",
        "outputId": "dc3ba4ae-a8f9-482f-e7e7-e509a61e0e05"
      },
      "source": [
        "Matakuliah = pd.DataFrame({\n",
        "    'MKID':['mk1','mk2','mk3','mk4'],\n",
        "    'NamaMatakuliah':['Database','Programming','Web-based Programming','Basic Calculus']\n",
        "})\n",
        "print(Matakuliah)"
      ],
      "execution_count": 17,
      "outputs": [
        {
          "output_type": "stream",
          "name": "stdout",
          "text": [
            "  MKID         NamaMatakuliah\n",
            "0  mk1               Database\n",
            "1  mk2            Programming\n",
            "2  mk3  Web-based Programming\n",
            "3  mk4         Basic Calculus\n"
          ]
        }
      ]
    },
    {
      "cell_type": "code",
      "metadata": {
        "colab": {
          "base_uri": "https://localhost:8080/"
        },
        "id": "aLZr82_Ogexs",
        "outputId": "a4ef5563-298c-4889-e9e6-6e1bb1f68316"
      },
      "source": [
        "mahasiswa= pd.DataFrame({\n",
        "    'NIM':['101','102','103','105'],\n",
        "    'Nama':['Jane','Mike','Dave','Bambang']\n",
        "})\n",
        "print(mahasiswa)"
      ],
      "execution_count": 4,
      "outputs": [
        {
          "output_type": "stream",
          "name": "stdout",
          "text": [
            "   NIM     Nama\n",
            "0  101     Jane\n",
            "1  102     Mike\n",
            "2  103     Dave\n",
            "3  105  Bambang\n"
          ]
        }
      ]
    },
    {
      "cell_type": "code",
      "metadata": {
        "colab": {
          "base_uri": "https://localhost:8080/"
        },
        "id": "Zs_Lvl8Vg_al",
        "outputId": "f650d500-741e-4442-bb82-b190f744f6a3"
      },
      "source": [
        "nilai = pd.DataFrame({\n",
        "    'NIM':['101','101','102','103'],\n",
        "    'MKID':['mk1','mk3','mk2','mk2'],\n",
        "    'Nilai':[60,80,70,95]\n",
        "})\n",
        "print(nilai)"
      ],
      "execution_count": 5,
      "outputs": [
        {
          "output_type": "stream",
          "name": "stdout",
          "text": [
            "   NIM MKID  Nilai\n",
            "0  101  mk1     60\n",
            "1  101  mk3     80\n",
            "2  102  mk2     70\n",
            "3  103  mk2     95\n"
          ]
        }
      ]
    },
    {
      "cell_type": "markdown",
      "metadata": {
        "id": "Xc5arPHFkCQ2"
      },
      "source": [
        "# Merging DataFrame"
      ]
    },
    {
      "cell_type": "code",
      "metadata": {
        "colab": {
          "base_uri": "https://localhost:8080/"
        },
        "id": "eGzUX6AahcVd",
        "outputId": "7a92332b-c722-4817-af87-50ffd91a8f4f"
      },
      "source": [
        "gabung_nilai = pd.merge(pd.merge(mahasiswa,nilai, on ='NIM',how = 'left'),Matakuliah,on ='MKID', how = 'left')\n",
        "print(gabung_nilai)"
      ],
      "execution_count": 12,
      "outputs": [
        {
          "output_type": "stream",
          "name": "stdout",
          "text": [
            "   NIM     Nama MKID  Nilai         NamaMatakuliah\n",
            "0  101     Jane  mk1   60.0               Database\n",
            "1  101     Jane  mk3   80.0  Web-based Programming\n",
            "2  102     Mike  mk2   70.0            Programming\n",
            "3  103     Dave  mk2   95.0            Programming\n",
            "4  105  Bambang  NaN    NaN                    NaN\n"
          ]
        }
      ]
    },
    {
      "cell_type": "markdown",
      "metadata": {
        "id": "X28KexZ1kXzD"
      },
      "source": [
        "# Lambda Function"
      ]
    },
    {
      "cell_type": "code",
      "metadata": {
        "colab": {
          "base_uri": "https://localhost:8080/",
          "height": 204
        },
        "id": "nIvnnrV7iSe7",
        "outputId": "8cdb0d4a-1b68-4802-a297-d0e2987e78e8"
      },
      "source": [
        "matakuliah = pd.DataFrame({\n",
        "    'Mhs ID':['001','001','001','002','002'],\n",
        "    'Nama':['Budi','Budi','Budi','Joko','Joko'],\n",
        "    'Matakuliah':['Kalkulus','Fisika','Basis Data','Programming','Basis Data']\n",
        "})\n",
        "matakuliah"
      ],
      "execution_count": 14,
      "outputs": [
        {
          "output_type": "execute_result",
          "data": {
            "text/html": [
              "<div>\n",
              "<style scoped>\n",
              "    .dataframe tbody tr th:only-of-type {\n",
              "        vertical-align: middle;\n",
              "    }\n",
              "\n",
              "    .dataframe tbody tr th {\n",
              "        vertical-align: top;\n",
              "    }\n",
              "\n",
              "    .dataframe thead th {\n",
              "        text-align: right;\n",
              "    }\n",
              "</style>\n",
              "<table border=\"1\" class=\"dataframe\">\n",
              "  <thead>\n",
              "    <tr style=\"text-align: right;\">\n",
              "      <th></th>\n",
              "      <th>Mhs ID</th>\n",
              "      <th>Nama</th>\n",
              "      <th>Matakuliah</th>\n",
              "    </tr>\n",
              "  </thead>\n",
              "  <tbody>\n",
              "    <tr>\n",
              "      <th>0</th>\n",
              "      <td>001</td>\n",
              "      <td>Budi</td>\n",
              "      <td>Kalkulus</td>\n",
              "    </tr>\n",
              "    <tr>\n",
              "      <th>1</th>\n",
              "      <td>001</td>\n",
              "      <td>Budi</td>\n",
              "      <td>Fisika</td>\n",
              "    </tr>\n",
              "    <tr>\n",
              "      <th>2</th>\n",
              "      <td>001</td>\n",
              "      <td>Budi</td>\n",
              "      <td>Basis Data</td>\n",
              "    </tr>\n",
              "    <tr>\n",
              "      <th>3</th>\n",
              "      <td>002</td>\n",
              "      <td>Joko</td>\n",
              "      <td>Programming</td>\n",
              "    </tr>\n",
              "    <tr>\n",
              "      <th>4</th>\n",
              "      <td>002</td>\n",
              "      <td>Joko</td>\n",
              "      <td>Basis Data</td>\n",
              "    </tr>\n",
              "  </tbody>\n",
              "</table>\n",
              "</div>"
            ],
            "text/plain": [
              "  Mhs ID  Nama   Matakuliah\n",
              "0    001  Budi     Kalkulus\n",
              "1    001  Budi       Fisika\n",
              "2    001  Budi   Basis Data\n",
              "3    002  Joko  Programming\n",
              "4    002  Joko   Basis Data"
            ]
          },
          "metadata": {},
          "execution_count": 14
        }
      ]
    },
    {
      "cell_type": "code",
      "metadata": {
        "colab": {
          "base_uri": "https://localhost:8080/",
          "height": 204
        },
        "id": "yn8tou2hlDzF",
        "outputId": "32585030-e8e1-44c4-f8fb-caa99b849697"
      },
      "source": [
        "matakuliah['Dosen']= matakuliah['Matakuliah'].apply(lambda matakuliah:\n",
        "                                                    'Pak Agus' if matakuliah == 'Kalkulus' \n",
        "                                                    else('Pak Dwi' if matakuliah == 'Fisika' \n",
        "                                                         else('Bu Dian' if matakuliah == 'Basis Data' else 'Bu Sisi')))\n",
        "matakuliah"
      ],
      "execution_count": 15,
      "outputs": [
        {
          "output_type": "execute_result",
          "data": {
            "text/html": [
              "<div>\n",
              "<style scoped>\n",
              "    .dataframe tbody tr th:only-of-type {\n",
              "        vertical-align: middle;\n",
              "    }\n",
              "\n",
              "    .dataframe tbody tr th {\n",
              "        vertical-align: top;\n",
              "    }\n",
              "\n",
              "    .dataframe thead th {\n",
              "        text-align: right;\n",
              "    }\n",
              "</style>\n",
              "<table border=\"1\" class=\"dataframe\">\n",
              "  <thead>\n",
              "    <tr style=\"text-align: right;\">\n",
              "      <th></th>\n",
              "      <th>Mhs ID</th>\n",
              "      <th>Nama</th>\n",
              "      <th>Matakuliah</th>\n",
              "      <th>Dosen</th>\n",
              "    </tr>\n",
              "  </thead>\n",
              "  <tbody>\n",
              "    <tr>\n",
              "      <th>0</th>\n",
              "      <td>001</td>\n",
              "      <td>Budi</td>\n",
              "      <td>Kalkulus</td>\n",
              "      <td>Pak Agus</td>\n",
              "    </tr>\n",
              "    <tr>\n",
              "      <th>1</th>\n",
              "      <td>001</td>\n",
              "      <td>Budi</td>\n",
              "      <td>Fisika</td>\n",
              "      <td>Pak Dwi</td>\n",
              "    </tr>\n",
              "    <tr>\n",
              "      <th>2</th>\n",
              "      <td>001</td>\n",
              "      <td>Budi</td>\n",
              "      <td>Basis Data</td>\n",
              "      <td>Bu Dian</td>\n",
              "    </tr>\n",
              "    <tr>\n",
              "      <th>3</th>\n",
              "      <td>002</td>\n",
              "      <td>Joko</td>\n",
              "      <td>Programming</td>\n",
              "      <td>Bu Sisi</td>\n",
              "    </tr>\n",
              "    <tr>\n",
              "      <th>4</th>\n",
              "      <td>002</td>\n",
              "      <td>Joko</td>\n",
              "      <td>Basis Data</td>\n",
              "      <td>Bu Dian</td>\n",
              "    </tr>\n",
              "  </tbody>\n",
              "</table>\n",
              "</div>"
            ],
            "text/plain": [
              "  Mhs ID  Nama   Matakuliah     Dosen\n",
              "0    001  Budi     Kalkulus  Pak Agus\n",
              "1    001  Budi       Fisika   Pak Dwi\n",
              "2    001  Budi   Basis Data   Bu Dian\n",
              "3    002  Joko  Programming   Bu Sisi\n",
              "4    002  Joko   Basis Data   Bu Dian"
            ]
          },
          "metadata": {},
          "execution_count": 15
        }
      ]
    },
    {
      "cell_type": "code",
      "metadata": {
        "id": "f0H2G6gUmmuB"
      },
      "source": [
        ""
      ],
      "execution_count": null,
      "outputs": []
    }
  ]
}